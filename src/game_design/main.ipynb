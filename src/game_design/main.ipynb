{
 "cells": [
  {
   "cell_type": "markdown",
   "metadata": {},
   "source": [
    "# A/B Testing Cookie Cats game design"
   ]
  },
  {
   "cell_type": "markdown",
   "metadata": {},
   "source": [
    "# Introduction\n",
    "\n",
    "In this notebook I analyze the data from Cookie Cats game A/B test. First I will describe the experiment and overview the data. The I will proceed to reverse engineering the design of experiment. Then finally I will analyze the data and draw conclusions."
   ]
  },
  {
   "cell_type": "markdown",
   "metadata": {},
   "source": [
    "## Data Set\n",
    "\n",
    "This dataset includes A/B test results of Cookie Cats to examine what happens when the first gate in the game was moved from level 30 to level 40. When a player installed the game, he or she was randomly assigned to either gate_30 or gate_40."
   ]
  },
  {
   "cell_type": "markdown",
   "metadata": {},
   "source": [
    "## Goal\n",
    "\n",
    "Does moving the first gate from level 30 to level 40 affect user engagement and retention? Is it better to have it at level 30 or 40?\n"
   ]
  },
  {
   "cell_type": "markdown",
   "metadata": {},
   "source": [
    "## Biases\n",
    "\n",
    "The data has indications of SRM which might introduce bias towards some users."
   ]
  },
  {
   "cell_type": "markdown",
   "metadata": {},
   "source": [
    "## Domain knowledge\n",
    "\n",
    "I am not the designer of the experiment. I have tried Cookie Cats game and it is fun."
   ]
  },
  {
   "cell_type": "markdown",
   "metadata": {},
   "source": [
    "## Libraries"
   ]
  },
  {
   "cell_type": "code",
   "execution_count": 27,
   "metadata": {},
   "outputs": [],
   "source": [
    "from pathlib import Path\n",
    "\n",
    "import kagglehub\n",
    "import matplotlib.pyplot as plt\n",
    "import numpy as np\n",
    "from kagglehub import KaggleDatasetAdapter\n",
    "from scipy import stats\n",
    "from scipy.stats import binomtest, kstest, mannwhitneyu\n",
    "from statsmodels.stats.multitest import multipletests\n",
    "from statsmodels.stats.power import NormalIndPower\n",
    "from statsmodels.stats.proportion import (\n",
    "    proportion_effectsize,\n",
    "    proportions_chisquare,\n",
    "    proportions_ztest,\n",
    ")"
   ]
  },
  {
   "cell_type": "markdown",
   "metadata": {},
   "source": [
    "## Constants\n",
    "\n",
    "Here I define constants for the analysis. alpha stands for significance level."
   ]
  },
  {
   "cell_type": "code",
   "execution_count": 2,
   "metadata": {},
   "outputs": [],
   "source": [
    "ALPHA = 0.05"
   ]
  },
  {
   "cell_type": "markdown",
   "metadata": {},
   "source": [
    "## Get Data"
   ]
  },
  {
   "cell_type": "code",
   "execution_count": 3,
   "metadata": {},
   "outputs": [
    {
     "name": "stdout",
     "output_type": "stream",
     "text": [
      "Warning: Looks like you're using an outdated `kagglehub` version (installed: 0.3.11), please consider upgrading to the latest version (0.3.12).\n"
     ]
    }
   ],
   "source": [
    "raw_df = kagglehub.dataset_load(\n",
    "    KaggleDatasetAdapter.PANDAS,\n",
    "    \"mursideyarkin/mobile-games-ab-testing-cookie-cats\",\n",
    "    \"cookie_cats.csv\",\n",
    ")\n",
    "Path(\"data\").mkdir(parents=True, exist_ok=True)\n",
    "raw_df.to_csv(\"data/raw_game_design.csv\", index=False)"
   ]
  },
  {
   "cell_type": "markdown",
   "metadata": {},
   "source": [
    "## Data Overview\n",
    "\n",
    "The data we have is from 90,189 players that installed the game while the AB-test was running.\n",
    "\n",
    "The variables are:\n",
    "- userid: A unique number that identifies each player.\n",
    "- version: Whether the player was put in the control group (gate_30 - a gate at level 30) or the group with the moved gate (gate_40 - a gate at level 40).\n",
    "- sum_gamerounds: the number of game rounds played by the player during the first 14 days after install.\n",
    "- retention_1: Did the player come back and play 1 day after installing?\n",
    "- retention_7: Did the player come back and play 7 days after installing?\n",
    "\n",
    "\n",
    "\n",
    "\n",
    "\n"
   ]
  },
  {
   "cell_type": "code",
   "execution_count": 4,
   "metadata": {},
   "outputs": [
    {
     "data": {
      "text/html": [
       "<div>\n",
       "<style scoped>\n",
       "    .dataframe tbody tr th:only-of-type {\n",
       "        vertical-align: middle;\n",
       "    }\n",
       "\n",
       "    .dataframe tbody tr th {\n",
       "        vertical-align: top;\n",
       "    }\n",
       "\n",
       "    .dataframe thead th {\n",
       "        text-align: right;\n",
       "    }\n",
       "</style>\n",
       "<table border=\"1\" class=\"dataframe\">\n",
       "  <thead>\n",
       "    <tr style=\"text-align: right;\">\n",
       "      <th></th>\n",
       "      <th>userid</th>\n",
       "      <th>version</th>\n",
       "      <th>sum_gamerounds</th>\n",
       "      <th>retention_1</th>\n",
       "      <th>retention_7</th>\n",
       "    </tr>\n",
       "  </thead>\n",
       "  <tbody>\n",
       "    <tr>\n",
       "      <th>0</th>\n",
       "      <td>116</td>\n",
       "      <td>gate_30</td>\n",
       "      <td>3</td>\n",
       "      <td>False</td>\n",
       "      <td>False</td>\n",
       "    </tr>\n",
       "    <tr>\n",
       "      <th>1</th>\n",
       "      <td>337</td>\n",
       "      <td>gate_30</td>\n",
       "      <td>38</td>\n",
       "      <td>True</td>\n",
       "      <td>False</td>\n",
       "    </tr>\n",
       "    <tr>\n",
       "      <th>2</th>\n",
       "      <td>377</td>\n",
       "      <td>gate_40</td>\n",
       "      <td>165</td>\n",
       "      <td>True</td>\n",
       "      <td>False</td>\n",
       "    </tr>\n",
       "    <tr>\n",
       "      <th>3</th>\n",
       "      <td>483</td>\n",
       "      <td>gate_40</td>\n",
       "      <td>1</td>\n",
       "      <td>False</td>\n",
       "      <td>False</td>\n",
       "    </tr>\n",
       "    <tr>\n",
       "      <th>4</th>\n",
       "      <td>488</td>\n",
       "      <td>gate_40</td>\n",
       "      <td>179</td>\n",
       "      <td>True</td>\n",
       "      <td>True</td>\n",
       "    </tr>\n",
       "  </tbody>\n",
       "</table>\n",
       "</div>"
      ],
      "text/plain": [
       "   userid  version  sum_gamerounds  retention_1  retention_7\n",
       "0     116  gate_30               3        False        False\n",
       "1     337  gate_30              38         True        False\n",
       "2     377  gate_40             165         True        False\n",
       "3     483  gate_40               1        False        False\n",
       "4     488  gate_40             179         True         True"
      ]
     },
     "execution_count": 4,
     "metadata": {},
     "output_type": "execute_result"
    }
   ],
   "source": [
    "raw_df.head()"
   ]
  },
  {
   "cell_type": "markdown",
   "metadata": {},
   "source": [
    "Notice the means in experiment group are smaller than contorl group."
   ]
  },
  {
   "cell_type": "code",
   "execution_count": 5,
   "metadata": {},
   "outputs": [
    {
     "data": {
      "text/html": [
       "<div>\n",
       "<style scoped>\n",
       "    .dataframe tbody tr th:only-of-type {\n",
       "        vertical-align: middle;\n",
       "    }\n",
       "\n",
       "    .dataframe tbody tr th {\n",
       "        vertical-align: top;\n",
       "    }\n",
       "\n",
       "    .dataframe thead th {\n",
       "        text-align: right;\n",
       "    }\n",
       "</style>\n",
       "<table border=\"1\" class=\"dataframe\">\n",
       "  <thead>\n",
       "    <tr style=\"text-align: right;\">\n",
       "      <th></th>\n",
       "      <th>userid</th>\n",
       "      <th>sum_gamerounds</th>\n",
       "      <th>retention_1</th>\n",
       "      <th>retention_7</th>\n",
       "    </tr>\n",
       "    <tr>\n",
       "      <th>version</th>\n",
       "      <th></th>\n",
       "      <th></th>\n",
       "      <th></th>\n",
       "      <th></th>\n",
       "    </tr>\n",
       "  </thead>\n",
       "  <tbody>\n",
       "    <tr>\n",
       "      <th>gate_30</th>\n",
       "      <td>4.987564e+06</td>\n",
       "      <td>52.456264</td>\n",
       "      <td>0.448188</td>\n",
       "      <td>0.190201</td>\n",
       "    </tr>\n",
       "    <tr>\n",
       "      <th>gate_40</th>\n",
       "      <td>5.009073e+06</td>\n",
       "      <td>51.298776</td>\n",
       "      <td>0.442283</td>\n",
       "      <td>0.182000</td>\n",
       "    </tr>\n",
       "  </tbody>\n",
       "</table>\n",
       "</div>"
      ],
      "text/plain": [
       "               userid  sum_gamerounds  retention_1  retention_7\n",
       "version                                                        \n",
       "gate_30  4.987564e+06       52.456264     0.448188     0.190201\n",
       "gate_40  5.009073e+06       51.298776     0.442283     0.182000"
      ]
     },
     "execution_count": 5,
     "metadata": {},
     "output_type": "execute_result"
    }
   ],
   "source": [
    "raw_df.groupby(by=\"version\").mean()"
   ]
  },
  {
   "cell_type": "markdown",
   "metadata": {},
   "source": [
    "Types seems to be correct."
   ]
  },
  {
   "cell_type": "code",
   "execution_count": 6,
   "metadata": {},
   "outputs": [
    {
     "data": {
      "text/plain": [
       "userid             int64\n",
       "version           object\n",
       "sum_gamerounds     int64\n",
       "retention_1         bool\n",
       "retention_7         bool\n",
       "dtype: object"
      ]
     },
     "execution_count": 6,
     "metadata": {},
     "output_type": "execute_result"
    }
   ],
   "source": [
    "raw_df.dtypes"
   ]
  },
  {
   "cell_type": "markdown",
   "metadata": {},
   "source": [
    "The randomization into control and experiment groups seem approximately equal."
   ]
  },
  {
   "cell_type": "code",
   "execution_count": 7,
   "metadata": {},
   "outputs": [
    {
     "data": {
      "text/plain": [
       "version\n",
       "gate_30    44700\n",
       "gate_40    45489\n",
       "dtype: int64"
      ]
     },
     "execution_count": 7,
     "metadata": {},
     "output_type": "execute_result"
    }
   ],
   "source": [
    "raw_df.groupby(by=\"version\").size()"
   ]
  },
  {
   "cell_type": "markdown",
   "metadata": {},
   "source": [
    "Below notice how user-id with 49854 gamerounds has the closest value to it is 2961 which is a lot. I will remove it in processing step as it is not representative of the data."
   ]
  },
  {
   "cell_type": "code",
   "execution_count": 8,
   "metadata": {},
   "outputs": [
    {
     "data": {
      "text/plain": [
       "57702    49854\n",
       "7912      2961\n",
       "29417     2640\n",
       "43671     2438\n",
       "48188     2294\n",
       "Name: sum_gamerounds, dtype: int64"
      ]
     },
     "execution_count": 8,
     "metadata": {},
     "output_type": "execute_result"
    }
   ],
   "source": [
    "raw_df[\"sum_gamerounds\"].sort_values(ascending=False).head()"
   ]
  },
  {
   "cell_type": "markdown",
   "metadata": {},
   "source": [
    "## Data Preprocessing\n",
    "\n",
    "First I will prepeare the data for analysis by cleaning data. Here I check for null and duplicate userid - it seems there are no such values.\n",
    "\n",
    "Then I remove user-id with 49854 gamerounds as the closest value to it is 2961. And check that other outliers and leave them in data as theyare grouped approximately equally in both groups."
   ]
  },
  {
   "cell_type": "code",
   "execution_count": 9,
   "metadata": {},
   "outputs": [
    {
     "data": {
      "text/plain": [
       "userid            0\n",
       "version           0\n",
       "sum_gamerounds    0\n",
       "retention_1       0\n",
       "retention_7       0\n",
       "dtype: int64"
      ]
     },
     "execution_count": 9,
     "metadata": {},
     "output_type": "execute_result"
    }
   ],
   "source": [
    "raw_df.isnull().sum()"
   ]
  },
  {
   "cell_type": "markdown",
   "metadata": {},
   "source": [
    "There is no duplicates in userid."
   ]
  },
  {
   "cell_type": "code",
   "execution_count": 10,
   "metadata": {},
   "outputs": [
    {
     "data": {
      "text/plain": [
       "np.int64(0)"
      ]
     },
     "execution_count": 10,
     "metadata": {},
     "output_type": "execute_result"
    }
   ],
   "source": [
    "raw_df[\"userid\"].duplicated().sum()"
   ]
  },
  {
   "cell_type": "markdown",
   "metadata": {},
   "source": [
    "Types seems to be correct."
   ]
  },
  {
   "cell_type": "code",
   "execution_count": 11,
   "metadata": {},
   "outputs": [
    {
     "data": {
      "text/plain": [
       "userid             int64\n",
       "version           object\n",
       "sum_gamerounds     int64\n",
       "retention_1         bool\n",
       "retention_7         bool\n",
       "dtype: object"
      ]
     },
     "execution_count": 11,
     "metadata": {},
     "output_type": "execute_result"
    }
   ],
   "source": [
    "raw_df.dtypes"
   ]
  },
  {
   "cell_type": "markdown",
   "metadata": {},
   "source": [
    "I will remove user-id with 49854 gamerounds as the closest value to it is 2961."
   ]
  },
  {
   "cell_type": "code",
   "execution_count": 12,
   "metadata": {},
   "outputs": [],
   "source": [
    "processed_df = raw_df[raw_df[\"sum_gamerounds\"] != raw_df[\"sum_gamerounds\"].max()]"
   ]
  },
  {
   "cell_type": "markdown",
   "metadata": {},
   "source": [
    "I took out the big outlier as it is not representative of the data. Below I will check whether remaining outliers after 97.5 quantile are representative of the data. "
   ]
  },
  {
   "cell_type": "code",
   "execution_count": 13,
   "metadata": {},
   "outputs": [
    {
     "data": {
      "image/png": "[encoded data removed]",
      "text/plain": [
       "<Figure size 640x480 with 1 Axes>"
      ]
     },
     "metadata": {},
     "output_type": "display_data"
    }
   ],
   "source": [
    "plt.boxplot(processed_df[\"sum_gamerounds\"])\n",
    "plt.show()"
   ]
  },
  {
   "cell_type": "markdown",
   "metadata": {},
   "source": [
    "Notice that remaining outliers are grouped approximately equally in both groups. "
   ]
  },
  {
   "cell_type": "code",
   "execution_count": 14,
   "metadata": {},
   "outputs": [
    {
     "data": {
      "text/plain": [
       "version\n",
       "gate_30    1126\n",
       "gate_40    1124\n",
       "dtype: int64"
      ]
     },
     "execution_count": 14,
     "metadata": {},
     "output_type": "execute_result"
    }
   ],
   "source": [
    "all_outliers = processed_df[\n",
    "    processed_df[\"sum_gamerounds\"] > processed_df[\"sum_gamerounds\"].quantile(0.975)\n",
    "]\n",
    "all_outliers.groupby(by=\"version\").size()"
   ]
  },
  {
   "cell_type": "markdown",
   "metadata": {},
   "source": [
    "Notice that outliers group has more game_rounds, retention_1 and retention_7. This suggests evidence that highly engaged users play the game more in experiment group."
   ]
  },
  {
   "cell_type": "code",
   "execution_count": 15,
   "metadata": {},
   "outputs": [
    {
     "data": {
      "text/html": [
       "<div>\n",
       "<style scoped>\n",
       "    .dataframe tbody tr th:only-of-type {\n",
       "        vertical-align: middle;\n",
       "    }\n",
       "\n",
       "    .dataframe tbody tr th {\n",
       "        vertical-align: top;\n",
       "    }\n",
       "\n",
       "    .dataframe thead th {\n",
       "        text-align: right;\n",
       "    }\n",
       "</style>\n",
       "<table border=\"1\" class=\"dataframe\">\n",
       "  <thead>\n",
       "    <tr style=\"text-align: right;\">\n",
       "      <th></th>\n",
       "      <th>userid</th>\n",
       "      <th>sum_gamerounds</th>\n",
       "      <th>retention_1</th>\n",
       "      <th>retention_7</th>\n",
       "    </tr>\n",
       "    <tr>\n",
       "      <th>version</th>\n",
       "      <th></th>\n",
       "      <th></th>\n",
       "      <th></th>\n",
       "      <th></th>\n",
       "    </tr>\n",
       "  </thead>\n",
       "  <tbody>\n",
       "    <tr>\n",
       "      <th>gate_30</th>\n",
       "      <td>4.949197e+06</td>\n",
       "      <td>522.456483</td>\n",
       "      <td>0.945826</td>\n",
       "      <td>0.914742</td>\n",
       "    </tr>\n",
       "    <tr>\n",
       "      <th>gate_40</th>\n",
       "      <td>5.171008e+06</td>\n",
       "      <td>532.612100</td>\n",
       "      <td>0.956406</td>\n",
       "      <td>0.921708</td>\n",
       "    </tr>\n",
       "  </tbody>\n",
       "</table>\n",
       "</div>"
      ],
      "text/plain": [
       "               userid  sum_gamerounds  retention_1  retention_7\n",
       "version                                                        \n",
       "gate_30  4.949197e+06      522.456483     0.945826     0.914742\n",
       "gate_40  5.171008e+06      532.612100     0.956406     0.921708"
      ]
     },
     "execution_count": 15,
     "metadata": {},
     "output_type": "execute_result"
    }
   ],
   "source": [
    "all_outliers.groupby(by=\"version\").mean()"
   ]
  },
  {
   "cell_type": "markdown",
   "metadata": {},
   "source": [
    "Both groups have similar amount of outliers and they are similar to each other thus I will not remove them."
   ]
  },
  {
   "cell_type": "markdown",
   "metadata": {},
   "source": [
    "# AB testing\n",
    "\n",
    "Context\n",
    "This AB test evaluates whether moving the first in-game gate from level 30 to level 40 affects user engagement and retention. Players were randomly assigned to either version upon installation, and data was collected over 14 days."
   ]
  },
  {
   "cell_type": "markdown",
   "metadata": {},
   "source": [
    "## Design of experiment:\n",
    "\n",
    "As the experiment was not designed by me and is based on pre-existing Kaggle data, I will be making some assumptions in design:\n",
    "\n",
    "- Subject of experiment is user-id's\n",
    "- In analysis part of project I will check whether its distribution to both groups is approximately equal to ensure randomization was successful. (My invariant metric is count of user-id's)\n",
    "- My evaluation metrics will be retention_1, retention_7 and sum_gamerounds. Notice retention metrics have binomial distribution while we dont know for sure what distribution is sum_gamerounds as its type is integer.\n",
    "- When designing the experimetn it is important to decide on duration of experiment, and the amount of flow used for experiment. In description of data I find that duration of experiment is 14 days or more while I cannot say anything of how of the flow was used but this is unimportant for our goal.\n",
    "\n",
    "\n",
    "- As I did not design the experiment in cells below I reverse engineer with which metrics experiment has ennough power:\n",
    "    - practical significance = 0.01 and 2 for game rounds\n",
    "    - statistical significance = 0.05\n",
    "    - statistical power = 0.8"
   ]
  },
  {
   "cell_type": "markdown",
   "metadata": {},
   "source": [
    "### Power analysis\n",
    "\n",
    "Comparing this with Evan's Miller calculator I get 38845 and 24322 which is similar to my more conservative using cohen's h. While for game rounds I get 1135 using simulation. The statistics used:\n",
    "- practical significance = 0.01 and 2 for game rounds\n",
    "- statistical significance = 0.05\n",
    "- statistical power = 0.8\n",
    "\n",
    "While our total sample size is 90188 as seen below thus I have enought power to detect effect size of 2 for game rounds and 0.01 for retention 1 and 7."
   ]
  },
  {
   "cell_type": "code",
   "execution_count": 16,
   "metadata": {},
   "outputs": [
    {
     "data": {
      "text/plain": [
       "version  retention_1\n",
       "gate_30  False          24665\n",
       "         True           20034\n",
       "gate_40  False          25370\n",
       "         True           20119\n",
       "dtype: int64"
      ]
     },
     "execution_count": 16,
     "metadata": {},
     "output_type": "execute_result"
    }
   ],
   "source": [
    "processed_df.groupby(by=[\"version\", \"retention_1\"]).size()"
   ]
  },
  {
   "cell_type": "code",
   "execution_count": 17,
   "metadata": {},
   "outputs": [],
   "source": [
    "control_retention_1_ratio = (\n",
    "    processed_df.groupby(by=[\"version\", \"retention_1\"]).size().iloc[1]\n",
    "    / processed_df.groupby(by=[\"version\", \"retention_1\"]).size().iloc[0:2].sum()\n",
    ")\n",
    "control_retention_7_ratio = (\n",
    "    processed_df.groupby(by=[\"version\", \"retention_7\"]).size().iloc[1]\n",
    "    / processed_df.groupby(by=[\"version\", \"retention_7\"]).size().iloc[0:2].sum()\n",
    ")\n",
    "control_rounds = processed_df[processed_df[\"version\"] == \"gate_30\"][\"sum_gamerounds\"]"
   ]
  },
  {
   "cell_type": "code",
   "execution_count": 18,
   "metadata": {},
   "outputs": [],
   "source": [
    "def required_sample_size(p_baseline, min_effect, power=0.8, alpha=0.05):\n",
    "    p_alt = p_baseline + min_effect\n",
    "    effect_size = proportion_effectsize(p_baseline, p_alt)  # Cohen's h\n",
    "    analysis = NormalIndPower()\n",
    "    sample_size = analysis.solve_power(\n",
    "        effect_size=effect_size, power=power, alpha=alpha, ratio=1.0, alternative=\"two-sided\"\n",
    "    )\n",
    "    return round(sample_size)"
   ]
  },
  {
   "cell_type": "code",
   "execution_count": 19,
   "metadata": {},
   "outputs": [
    {
     "data": {
      "text/plain": [
       "38899"
      ]
     },
     "execution_count": 19,
     "metadata": {},
     "output_type": "execute_result"
    }
   ],
   "source": [
    "required_sample_size(control_retention_1_ratio, min_effect=0.01, power=0.8, alpha=ALPHA)"
   ]
  },
  {
   "cell_type": "code",
   "execution_count": 22,
   "metadata": {},
   "outputs": [
    {
     "data": {
      "text/plain": [
       "24655"
      ]
     },
     "execution_count": 22,
     "metadata": {},
     "output_type": "execute_result"
    }
   ],
   "source": [
    "required_sample_size(control_retention_7_ratio, min_effect=0.01, power=0.8, alpha=ALPHA)"
   ]
  },
  {
   "cell_type": "code",
   "execution_count": 23,
   "metadata": {},
   "outputs": [],
   "source": [
    "def required_sample_size_simulation(data, min_effect, power= 0.8, alpha= 0.05):\n",
    "    n = 100\n",
    "    max_n = 100000\n",
    "\n",
    "    while n < max_n:\n",
    "        power_achieved = 0\n",
    "\n",
    "        for _ in range(1000):\n",
    "            control = np.random.choice(data, size=n, replace=True)\n",
    "            treatment = np.random.choice(data, size=n, replace=True) + min_effect\n",
    "            _, p_value = stats.mannwhitneyu(control, treatment)\n",
    "\n",
    "            if p_value < alpha:\n",
    "                power_achieved += 1\n",
    "\n",
    "        empirical_power = power_achieved / 1000\n",
    "\n",
    "        if empirical_power >= power:\n",
    "            return n\n",
    "\n",
    "        n = int(n * 1.5)\n",
    "\n",
    "    return max_n"
   ]
  },
  {
   "cell_type": "code",
   "execution_count": 24,
   "metadata": {},
   "outputs": [
    {
     "data": {
      "text/plain": [
       "1135"
      ]
     },
     "execution_count": 24,
     "metadata": {},
     "output_type": "execute_result"
    }
   ],
   "source": [
    "required_sample_size_simulation(control_rounds, min_effect=2, power=0.8, alpha=ALPHA)"
   ]
  },
  {
   "cell_type": "code",
   "execution_count": 19,
   "metadata": {},
   "outputs": [
    {
     "name": "stderr",
     "output_type": "stream",
     "text": [
      "/tmp/ipykernel_85158/708003975.py:1: FutureWarning: Series.__getitem__ treating keys as positions is deprecated. In a future version, integer keys will always be treated as labels (consistent with DataFrame behavior). To access a value by position, use `ser.iloc[pos]`\n",
      "  processed_df.count()[0]\n"
     ]
    },
    {
     "data": {
      "text/plain": [
       "np.int64(90188)"
      ]
     },
     "execution_count": 19,
     "metadata": {},
     "output_type": "execute_result"
    }
   ],
   "source": [
    "processed_df.count()[0]"
   ]
  },
  {
   "cell_type": "markdown",
   "metadata": {},
   "source": [
    "## Analysing experiment:\n",
    "\n",
    "Things I will do in this section:\n",
    "- Check whether control and experiment groups are comparable which means that the randomization was done properly and thus no biases are introduced.\n",
    "- Decide on the test depending on sample size, whether standard error is known, distribution assumptions.\n",
    "- Do the test, check whether it is significant. (i.e. confidence intervals are not within each other, or whether 0 is not inside effect size ci)\n",
    "- Some robustness checks which is use different test to test the same metric.\n",
    "- Decide on how many metrics, and how significance level is adjusted by that to take care of false positives.\n",
    "- Decide whether to recommend, reject or test for more."
   ]
  },
  {
   "cell_type": "markdown",
   "metadata": {},
   "source": [
    "### Check randomization\n",
    "\n",
    "In cells below I show that the randomization was not done properly and there is a bias in the experiment \n",
    "\n",
    "First I check whether control and experiment groups are comparable by testing. The data is captured when a new user installs and then they are randomly assigned to control or experiment group. In perfect world the split should be 50% for both groups.\n",
    "\n",
    "- **Null hypothesis**: Numer of users are approximately split 50% for both groups\n",
    "- **Alternative hypothesis**: Number of users are not split 50% for both groups\n",
    "\n",
    "After performing binomial test I get p-value of 0.0086 which is statistically significant at 95% confidence level. This means that the split is not random and there is a bias in the experiment.\n",
    "\n",
    "Next I will take out users who have 0 game rounds as that might be a reason for bias."
   ]
  },
  {
   "cell_type": "code",
   "execution_count": 33,
   "metadata": {},
   "outputs": [],
   "source": [
    "def check_randomization(nobs):\n",
    "    total_control = nobs[0]\n",
    "    total = sum(nobs)\n",
    "\n",
    "    # Perform binomial test\n",
    "    result = binomtest(total_control, total, p=0.5)\n",
    "\n",
    "    # Calculate z-score\n",
    "    p_control = total_control / total\n",
    "    z_score = (p_control - 0.5) / (0.5 * (1 - 0.5) / total) ** 0.5\n",
    "    return z_score, result.pvalue"
   ]
  },
  {
   "cell_type": "code",
   "execution_count": 34,
   "metadata": {},
   "outputs": [
    {
     "name": "stdout",
     "output_type": "stream",
     "text": [
      "z-score: -2.631\n",
      "p-value: 0.0086\n"
     ]
    }
   ],
   "source": [
    "total_control = processed_df.groupby(by=\"version\").size().iloc[0]\n",
    "total_experiment = processed_df.groupby(by=\"version\").size().iloc[1]\n",
    "z_score, p_value = check_randomization(nobs=[total_control, total_experiment])\n",
    "print(f\"z-score: {z_score:.3f}\")\n",
    "print(f\"p-value: {p_value:.4f}\")"
   ]
  },
  {
   "cell_type": "markdown",
   "metadata": {},
   "source": [
    "I believe randomization process can go wrong and found that if game_rounds played is 0 then user-id might not be assigned properly. As this might mean that users have installed the game but haven't started playing and depending on when user-id is given this might disrupt analysis. Although it is hard to say as I am not the designer of experiment.\n",
    "\n",
    "I will investigate this further by taking out users who have 0 game rounds out of the test"
   ]
  },
  {
   "cell_type": "code",
   "execution_count": 21,
   "metadata": {},
   "outputs": [
    {
     "data": {
      "text/plain": [
       "version\n",
       "gate_30    44699\n",
       "gate_40    45489\n",
       "dtype: int64"
      ]
     },
     "execution_count": 21,
     "metadata": {},
     "output_type": "execute_result"
    }
   ],
   "source": [
    "processed_df.groupby(by=\"version\").size()\n"
   ]
  },
  {
   "cell_type": "code",
   "execution_count": 22,
   "metadata": {},
   "outputs": [
    {
     "data": {
      "text/plain": [
       "version\n",
       "gate_30    42762\n",
       "gate_40    43432\n",
       "dtype: int64"
      ]
     },
     "execution_count": 22,
     "metadata": {},
     "output_type": "execute_result"
    }
   ],
   "source": [
    "processed_df[processed_df[\"sum_gamerounds\"]!=0].groupby(by=\"version\").size()"
   ]
  },
  {
   "cell_type": "markdown",
   "metadata": {},
   "source": [
    "- **Null hypothesis**: Numer of users are approximately split 50% for both groups without 0 game rounds users\n",
    "- **Alternative hypothesis**: Number of users are not split 50% for both groups without 0 game rounds users\n",
    "\n",
    "After performing binomial test I get p-value of 0.0227 which is not statistically significant at 95% confidence level. This means I reject Null hypothesis.\n"
   ]
  },
  {
   "cell_type": "code",
   "execution_count": 35,
   "metadata": {},
   "outputs": [
    {
     "name": "stdout",
     "output_type": "stream",
     "text": [
      "z-score: -2.282\n",
      "p-value: 0.0227\n"
     ]
    }
   ],
   "source": [
    "total_control_no_0_gr = (\n",
    "    processed_df[processed_df[\"sum_gamerounds\"] != 0].groupby(by=\"version\").size().iloc[0]\n",
    ")\n",
    "total_experiment_no_0_gr = (\n",
    "    processed_df[processed_df[\"sum_gamerounds\"] != 0].groupby(by=\"version\").size().iloc[1]\n",
    ")\n",
    "z_score, p_value = check_randomization(nobs=[total_control_no_0_gr, total_experiment_no_0_gr])\n",
    "print(f\"z-score: {z_score:.3f}\")\n",
    "print(f\"p-value: {p_value:.4f}\")"
   ]
  },
  {
   "cell_type": "markdown",
   "metadata": {},
   "source": [
    "Even if I take out such users who have 0 game rounds the data still shows statistical difference between control and experiment.\n",
    "\n",
    "This disrepency might be a symptom of a bug in the way units were randomized. This is known as simple ratio mismatch (SRM). In [article](https://www.microsoft.com/en-us/research/articles/diagnosing-sample-ratio-mismatch-in-a-b-testing/) by Microsoft shows many reasons for SRM and way it can disrupt the analysis.\n",
    "\n",
    "Some implications of SRM:\n",
    "- Results could be compromised as certain user segments might be over/under-represented in one group.\n",
    "- Any conclusions drawn from the test may be invalid\n",
    "\n",
    "It would be a good idea to check the way it might be disrupting analysis, and ways we can improve our data collection to treat SRM. But as we only have the data, and can't investigate the process how the data is being collected I will proceed with analysis noting the imbalance and the bias it might bring.\n",
    "\n",
    "**Important disclaimer**: gate 30 and gate 40 are not statistically randomly split. Which might be influencing the results as this might be indication of SRM. Although p-value of such a split occuring is 0.86%. When conditioning on users without any game rounds p-values is 2.2% percent which indicates there might be a bug when assigning new user-id's. Although both of p-values are not too low, as in microsoft article is suggested to flag for SRM in conservative manner with p-value of 0.0005 to avoid false positives"
   ]
  },
  {
   "cell_type": "markdown",
   "metadata": {},
   "source": [
    "### Decide on test\n",
    "\n",
    "- t-test for continious variables when sample size is small or when variance is not known\n",
    "- z-test for continious variables when sample size is large and variance is known from previous studies\n",
    "- chi-squared test for comparing categorical variables\n",
    "- binomial test only for one group, like checking whther randomization was done properly\n",
    "- U-test for alternative to t-test when data has non-normal distribution.\n",
    "- bootstrap groups and compare their difference confidence interval with practical significance\n",
    "\n",
    "For retention_1 and retention_2 I will use z-test for proportions and use chi-squared test for additional test for robustness.\n",
    "\n",
    "For average game rounds I will use u-test as it does not have normal distribution and aditionally bootstrap to check robustness."
   ]
  },
  {
   "cell_type": "markdown",
   "metadata": {},
   "source": [
    "### Test using evaluation metrics"
   ]
  },
  {
   "cell_type": "markdown",
   "metadata": {},
   "source": [
    "#### Retention after 1 day\n",
    "\n",
    "- **Null hypothesis**: retention_1 is the same in both groups\n",
    "- **Alternative hypothesis**: retention_1 is different in both groups\n",
    "\n",
    "In below cells I show how retention_1 z-test p-value is above 0.05 thus I fail to reject Null hypothesis\n",
    "\n",
    "Below is code to ready data for tests"
   ]
  },
  {
   "cell_type": "code",
   "execution_count": 36,
   "metadata": {},
   "outputs": [],
   "source": [
    "control_successes_retention_1 = processed_df.groupby(by=[\"version\", \"retention_1\"]).size().iloc[1]\n",
    "control_trials_retention_1 = processed_df.groupby(by=[\"version\", \"retention_1\"]\n",
    "                                                  ).size().iloc[0:2].sum()\n",
    "exp_successes_retention_1 = processed_df.groupby(by=[\"version\", \"retention_1\"]).size().iloc[3]\n",
    "exp_trials_retention_1 = processed_df.groupby(by=[\"version\", \"retention_1\"]).size().iloc[2:4].sum()\n",
    "count = [control_successes_retention_1, exp_successes_retention_1]\n",
    "nobs = [control_trials_retention_1, exp_trials_retention_1]"
   ]
  },
  {
   "cell_type": "markdown",
   "metadata": {},
   "source": [
    "Notice how retention_1 z-test p-value is above 0.05 thus I fail to reject Null hypothesis."
   ]
  },
  {
   "cell_type": "code",
   "execution_count": 28,
   "metadata": {},
   "outputs": [
    {
     "name": "stdout",
     "output_type": "stream",
     "text": [
      "z-value:  1.787103509763628\n",
      "p-value:  0.0739207603418346\n"
     ]
    }
   ],
   "source": [
    "stat, retention_1_p_ztest = proportions_ztest(count, nobs)\n",
    "print(\"z-value: \", stat)\n",
    "print(\"p-value: \", retention_1_p_ztest)"
   ]
  },
  {
   "cell_type": "markdown",
   "metadata": {},
   "source": [
    "The confidence interval includes 0 thus we fail to reject Null hypothesis."
   ]
  },
  {
   "cell_type": "code",
   "execution_count": 29,
   "metadata": {},
   "outputs": [
    {
     "name": "stdout",
     "output_type": "stream",
     "text": [
      "CI:  (np.float64(-0.01240255012236162), np.float64(0.0005721569482933083))\n"
     ]
    }
   ],
   "source": [
    "treatment_effect = count[1] / nobs[1] - count[0] / nobs[0]\n",
    "\n",
    "p_pooled = (count[0] + count[1]) / (nobs[0] + nobs[1])\n",
    "se_diff = np.sqrt(p_pooled * (1 - p_pooled) * (1 / nobs[0] + 1 / nobs[1]))\n",
    "ci = (\n",
    "    treatment_effect - stats.norm.ppf(1 - ALPHA / 2) * se_diff,\n",
    "    treatment_effect + stats.norm.ppf(1 - ALPHA / 2) * se_diff,\n",
    ")\n",
    "print(\"CI: \", ci)"
   ]
  },
  {
   "cell_type": "markdown",
   "metadata": {},
   "source": [
    "Test for robustness also shows that we fail to reject Null hypothesis as p-value is above 0.05."
   ]
  },
  {
   "cell_type": "code",
   "execution_count": 30,
   "metadata": {},
   "outputs": [
    {
     "name": "stdout",
     "output_type": "stream",
     "text": [
      "chi-value:  3.19373895460949\n",
      "p-value for one-side:  0.07392076034183397\n"
     ]
    }
   ],
   "source": [
    "chi2_stat, retention_1_p_chi2, _ = proportions_chisquare(count, nobs)\n",
    "print(\"chi-value: \", chi2_stat)\n",
    "print(\"p-value for one-side: \", retention_1_p_chi2)\n"
   ]
  },
  {
   "cell_type": "markdown",
   "metadata": {},
   "source": [
    "#### Retention after 7 days\n",
    "\n",
    "- **Null hypothesis**: retention_7 is the same in both groups\n",
    "- **Alternative hypothesis**: retention_7 is different in both groups\n",
    "\n",
    "In below cells I show how retention_7 z-test p-value is below 0.05 thus I reject Null hypothesis. With confidence interval I show the effect direction is better when asigning user-id's to gate 30\n",
    "\n",
    "Below is code to ready data for tests"
   ]
  },
  {
   "cell_type": "code",
   "execution_count": 37,
   "metadata": {},
   "outputs": [],
   "source": [
    "count = [\n",
    "    processed_df.groupby(by=[\"version\", \"retention_7\"]).size().iloc[1],\n",
    "    processed_df.groupby(by=[\"version\", \"retention_7\"]).size().iloc[3],\n",
    "]\n",
    "nobs = [\n",
    "    processed_df.groupby(by=[\"version\", \"retention_7\"]).size().iloc[0:2].sum(),\n",
    "    processed_df.groupby(by=[\"version\", \"retention_7\"]).size().iloc[2:4].sum(),\n",
    "]"
   ]
  },
  {
   "cell_type": "markdown",
   "metadata": {},
   "source": [
    "Notice how retention_7 z-test p-value is above 0.05 thus I can reject Null hypothesis."
   ]
  },
  {
   "cell_type": "code",
   "execution_count": 38,
   "metadata": {},
   "outputs": [
    {
     "name": "stdout",
     "output_type": "stream",
     "text": [
      "z-value:  3.1574100858819936\n",
      "p-value:  0.0015917731773993442\n"
     ]
    }
   ],
   "source": [
    "\n",
    "stat, retention_7_p = proportions_ztest(count, nobs)\n",
    "print(\"z-value: \", stat)\n",
    "print(\"p-value: \", retention_7_p)"
   ]
  },
  {
   "cell_type": "markdown",
   "metadata": {},
   "source": [
    "Confidence interval does not include 0 thus I reject Null hypothesis. Although notice the direction of the effect is opposite to what I expected. As that is less users coming back after 7 days in experiment group than control group."
   ]
  },
  {
   "cell_type": "code",
   "execution_count": 39,
   "metadata": {},
   "outputs": [
    {
     "name": "stdout",
     "output_type": "stream",
     "text": [
      "Treatment effect:  -0.00818318160884296\n",
      "CI:  (np.float64(-0.013262895930399789), np.float64(-0.003103467287286132))\n"
     ]
    }
   ],
   "source": [
    "treatment_effect = count[1] / nobs[1] - count[0] / nobs[0]\n",
    "\n",
    "p_pooled = (count[0] + count[1]) / (nobs[0] + nobs[1])\n",
    "se_diff = np.sqrt(p_pooled * (1 - p_pooled) * (1 / nobs[0] + 1 / nobs[1]))\n",
    "ci = (\n",
    "    treatment_effect - stats.norm.ppf(1 - ALPHA / 2) * se_diff,\n",
    "    treatment_effect + stats.norm.ppf(1 - ALPHA / 2) * se_diff,\n",
    ")\n",
    "print(\"Treatment effect: \", treatment_effect)\n",
    "print(\"CI: \", ci)"
   ]
  },
  {
   "cell_type": "markdown",
   "metadata": {},
   "source": [
    "Robustness check shows that I can reject Null hypothesis as p-value is below 0.05."
   ]
  },
  {
   "cell_type": "code",
   "execution_count": 40,
   "metadata": {},
   "outputs": [
    {
     "name": "stdout",
     "output_type": "stream",
     "text": [
      "chi-value:  9.96923845042939\n",
      "p-value:  0.0015917731773992998\n"
     ]
    }
   ],
   "source": [
    "chi2_stat, pval, _ = proportions_chisquare(count, nobs)\n",
    "print(\"chi-value: \", chi2_stat)\n",
    "print(\"p-value: \", pval)"
   ]
  },
  {
   "cell_type": "markdown",
   "metadata": {},
   "source": [
    "#### Average of game rounds\n",
    "\n",
    "- **Null hypothesis**: average game rounds is the same in both groups\n",
    "- **Alternative hypothesis**: average game rounds is different in both groups\n",
    "\n",
    "In cells below I fail to reject Null hypothesis using U-test and bootstrap."
   ]
  },
  {
   "cell_type": "markdown",
   "metadata": {},
   "source": [
    "##### Assumptions\n",
    "\n",
    "- **Null hypothesis**: data is normal distributed\n",
    "- **Alternative hypothesis**: data is not normal distributed\n",
    "\n",
    "I show that data is not normal distributed using kolmogorov-smirnov test. As can be seen below p-value is below 0.05 thus data is not normal distributed.\n",
    "\n",
    "I take a look at visual representation of normality which does not look normal as the data is right skewed."
   ]
  },
  {
   "cell_type": "code",
   "execution_count": 35,
   "metadata": {},
   "outputs": [
    {
     "name": "stdout",
     "output_type": "stream",
     "text": [
      "Kolmogorov-Smirnov test statistic: 0.010258010418840668\n",
      "p-value for normality: 0.01727609923280408\n"
     ]
    }
   ],
   "source": [
    "control_rounds = processed_df[processed_df[\"version\"] == \"gate_30\"][\"sum_gamerounds\"]\n",
    "test_rounds = processed_df[processed_df[\"version\"] == \"gate_40\"][\"sum_gamerounds\"]\n",
    "\n",
    "stat, pval = kstest(control_rounds, test_rounds)\n",
    "print(\"Kolmogorov-Smirnov test statistic:\", stat)\n",
    "print(\"p-value for normality:\", pval)"
   ]
  },
  {
   "cell_type": "markdown",
   "metadata": {},
   "source": [
    "For robustness I will look at visual representation of normality which does not look normal as the data is right skewed."
   ]
  },
  {
   "cell_type": "code",
   "execution_count": 36,
   "metadata": {},
   "outputs": [
    {
     "data": {
      "image/png": "[encoded data removed]",
      "text/plain": [
       "<Figure size 640x480 with 1 Axes>"
      ]
     },
     "metadata": {},
     "output_type": "display_data"
    }
   ],
   "source": [
    "cont_removed_outliers = control_rounds[control_rounds < 500]  # noqa: PLR2004\n",
    "exp_removed_outliers = test_rounds[test_rounds < 500]  # noqa: PLR2004\n",
    "plt.hist(cont_removed_outliers, bins=30, alpha=0.3, label=\"Control Group\")\n",
    "plt.hist(exp_removed_outliers, bins=30, alpha=0.3, label=\"Experiment Group\")\n",
    "plt.legend()\n",
    "plt.show()"
   ]
  },
  {
   "cell_type": "markdown",
   "metadata": {},
   "source": [
    "##### U-test average game rounds\n",
    "\n",
    " As data is not normal distributed I will do U-test which does not take normality distirbution into assumptions. Below shows that the difference is almost significant, suggesting a borderline difference in distributions. This suggests that more testing is necesserary to make decision."
   ]
  },
  {
   "cell_type": "code",
   "execution_count": 37,
   "metadata": {},
   "outputs": [
    {
     "name": "stdout",
     "output_type": "stream",
     "text": [
      "Mann-Whitney U test p-value: 0.05089155279145376\n"
     ]
    }
   ],
   "source": [
    "stat, p_u_test = mannwhitneyu(control_rounds, test_rounds)\n",
    "print(f\"Mann-Whitney U test p-value: {p_u_test}\")"
   ]
  },
  {
   "cell_type": "markdown",
   "metadata": {},
   "source": [
    "##### Bootstrap\n",
    "\n",
    "As u-test is borderline significant, I will do bootstrap to check robustness. First, I will do bootstrap and then directly calculate confidence intervals both analytically and empirically.\n",
    "\n",
    "After calculations I found that bootstrap fail to reject Null hypothesis."
   ]
  },
  {
   "cell_type": "code",
   "execution_count": 38,
   "metadata": {},
   "outputs": [],
   "source": [
    "import numpy as np\n",
    "\n",
    "n_bootstraps = 10000\n",
    "bootstrap_means_control = np.array(\n",
    "    [\n",
    "        np.mean(np.random.choice(control_rounds, size=len(control_rounds), replace=True))\n",
    "        for _ in range(n_bootstraps)\n",
    "    ]\n",
    ")\n",
    "bootstrap_means_test = np.array(\n",
    "    [\n",
    "        np.mean(np.random.choice(test_rounds, size=len(test_rounds), replace=True))\n",
    "        for _ in range(n_bootstraps)\n",
    "    ]\n",
    ")"
   ]
  },
  {
   "cell_type": "markdown",
   "metadata": {},
   "source": [
    "I will take a look at bootstrap distributions which seem similar from below. Notice the data now is normaly distirbuted with similar variances only experiment group is slightly more to the left."
   ]
  },
  {
   "cell_type": "code",
   "execution_count": 39,
   "metadata": {},
   "outputs": [
    {
     "data": {
      "image/png": "[encoded data removed]",
      "text/plain": [
       "<Figure size 640x480 with 1 Axes>"
      ]
     },
     "metadata": {},
     "output_type": "display_data"
    }
   ],
   "source": [
    "plt.hist(bootstrap_means_control, bins=30, alpha=0.3, label=\"Control Group\")\n",
    "plt.hist(bootstrap_means_test, bins=30, alpha=0.3, label=\"Experiment Group\")\n",
    "plt.legend()\n",
    "plt.show()"
   ]
  },
  {
   "cell_type": "markdown",
   "metadata": {},
   "source": [
    "Below confidence interval is calcualted in 2 ways. Empirical and analytical way as per requirements. Notice from empirical way 0 is inside the confidence interval thus I fail to reject Null hypothesis."
   ]
  },
  {
   "cell_type": "code",
   "execution_count": 40,
   "metadata": {},
   "outputs": [
    {
     "name": "stdout",
     "output_type": "stream",
     "text": [
      "Treatment effect: -0.0500458446099369\n",
      "95% CI (empirical): (np.float64(-1.3903328144500615), np.float64(1.2628709526190065))\n"
     ]
    }
   ],
   "source": [
    "# Empirical way\n",
    "differences = bootstrap_means_test - bootstrap_means_control\n",
    "ci_lower_emp = np.percentile(differences, 2.5)  # 2.5th percentile\n",
    "ci_upper_emp = np.percentile(differences, 97.5)  # 97.5th percentile\n",
    "\n",
    "print(\"Treatment effect:\", differences.mean())\n",
    "print(\"95% CI (empirical):\", (ci_lower_emp, ci_upper_emp))"
   ]
  },
  {
   "cell_type": "markdown",
   "metadata": {},
   "source": [
    "Similarly from analytical way 0 is inside the confidence interval thus I fail to reject Null hypothesis."
   ]
  },
  {
   "cell_type": "code",
   "execution_count": 41,
   "metadata": {},
   "outputs": [
    {
     "name": "stdout",
     "output_type": "stream",
     "text": [
      "Treatment effect: -0.050045844609933\n",
      "95% CI (parametric): (np.float64(-1.389247440641312), np.float64(1.289155751421446))\n",
      "Bootstrap p-value (normal approximation): 0.9416122081796972\n"
     ]
    }
   ],
   "source": [
    "# Analytical way\n",
    "treatment_effect = np.mean(bootstrap_means_test) - np.mean(bootstrap_means_control)\n",
    "se = np.sqrt(np.var(bootstrap_means_test) + np.var(bootstrap_means_control))\n",
    "z = stats.norm.ppf(1 - ALPHA / 2)\n",
    "ci_lower = treatment_effect - z * se\n",
    "ci_upper = treatment_effect + z * se\n",
    "z_score = treatment_effect / se\n",
    "game_rounds_p = 2 * (1 - stats.norm.cdf(abs(z_score)))\n",
    "\n",
    "print(\"Treatment effect:\", treatment_effect)\n",
    "print(\"95% CI (parametric):\", (ci_lower, ci_upper))\n",
    "print(\"Bootstrap p-value (normal approximation):\", game_rounds_p)\n"
   ]
  },
  {
   "cell_type": "markdown",
   "metadata": {},
   "source": [
    "I care more about the central tendency rather than underlying distribution, so the bootstrap results is a bit more relevant. Thus I fail to reject Null hypothesis."
   ]
  },
  {
   "cell_type": "markdown",
   "metadata": {},
   "source": [
    "## Adjust p-values\n",
    "\n",
    "When using multiple tests it is important to take into account false positive that might occur thus I adjust p-values of my test for my final decision and find that only one of my tests is significant.\n",
    "- Retention_1 - z-test for proportions\n",
    "- Retention_7 - z-test for proportions\n",
    "- Average game rounds - U-test"
   ]
  },
  {
   "cell_type": "code",
   "execution_count": 42,
   "metadata": {},
   "outputs": [
    {
     "name": "stdout",
     "output_type": "stream",
     "text": [
      "Multiple Test Correction (Benjamini-Hochberg FDR):\n",
      "------------------------------------------------------------\n",
      "Test            Original p   Adjusted p   Significant?   \n",
      "------------------------------------------------------------\n",
      "Retention 1     0.0739       0.0739       No             \n",
      "Retention 7     0.0016       0.0048       Yes            \n",
      "Avg Game Rounds 0.0509       0.0739       No             \n"
     ]
    }
   ],
   "source": [
    "p_values = [retention_1_p_ztest, retention_7_p, p_u_test]\n",
    "test_names = [\"Retention 1\", \"Retention 7\", \"Avg Game Rounds\"]\n",
    "\n",
    "reject, p_adjusted, _, _ = multipletests(p_values, alpha=ALPHA, method=\"fdr_bh\")\n",
    "\n",
    "print(\"Multiple Test Correction (Benjamini-Hochberg FDR):\")\n",
    "print(\"-\" * 60)\n",
    "print(f\"{'Test':<15} {'Original p':<12} {'Adjusted p':<12} {'Significant?':<15}\")\n",
    "print(\"-\" * 60)\n",
    "for test, p_orig, p_adj, sig in zip(test_names, p_values, p_adjusted, reject, strict=True):\n",
    "    print(f\"{test:<15} {p_orig:.4f}       {p_adj:.4f}       {'Yes' if sig else 'No':<15}\")"
   ]
  },
  {
   "cell_type": "markdown",
   "metadata": {},
   "source": [
    "Notice only one of our tests is significant which is retention_7. But Notice that the direction of the effect is opposite to what I expected. As that is less users coming back after 7 days in experiment group than control group"
   ]
  },
  {
   "cell_type": "markdown",
   "metadata": {},
   "source": [
    "# Conclusions\n",
    "\n",
    "**Goal**: Does moving the first gate from level 30 to level 40 affect user engagement and retention? Is it better to have it at level 30 or 40?\n",
    "\n",
    "**Answer**: Moving first gate to level 40 gets less users coming back after 7 days. My recommendation is to stay with gate 30.\n",
    "\n",
    "I have tested whether gate 40 has more users coming back and more engaged users than gate 30 using following metrics:\n",
    "- how many users come back after 1 day\n",
    "- how many users come back after 7 days\n",
    "- average game rounds played by user\n",
    "\n",
    "After analysing the data I found that only one of our tests is significant which is retention after 7 days. The direction of the effect is that there is less users coming back after 7 days in gate 40 than gate 30. \n",
    "\n",
    "**Important disclaimer**: gate 30 and gate 40 are not statistically randomly split which might introduce bias in the results. But as p-values are not too low to discredit all of the anlaysis, I will not recommend investigating randomization process due to time constraints. "
   ]
  },
  {
   "cell_type": "markdown",
   "metadata": {},
   "source": [
    "# Improvements\n",
    "\n",
    "- investigate randomization process to see if there is a bug in the way user-id's are assigned.\n"
   ]
  }
 ],
 "metadata": {
  "kernelspec": {
   "display_name": ".venv",
   "language": "python",
   "name": "python3"
  },
  "language_info": {
   "codemirror_mode": {
    "name": "ipython",
    "version": 3
   },
   "file_extension": ".py",
   "mimetype": "text/x-python",
   "name": "python",
   "nbconvert_exporter": "python",
   "pygments_lexer": "ipython3",
   "version": "3.12.3"
  }
 },
 "nbformat": 4,
 "nbformat_minor": 2
}
